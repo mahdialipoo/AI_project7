{
 "cells": [
  {
   "cell_type": "code",
   "execution_count": 45,
   "metadata": {},
   "outputs": [],
   "source": [
    "from sklearn.decomposition import PCA\n",
    "from sklearn.datasets import load_iris\n",
    "import numpy as np \n",
    "import random\n",
    "from scipy.spatial import distance_matrix\n",
    "from sklearn.cluster import DBSCAN\n",
    "import matplotlib.pyplot as plt\n"
   ]
  },
  {
   "cell_type": "code",
   "execution_count": 26,
   "metadata": {},
   "outputs": [],
   "source": [
    "data=load_iris()\n",
    "X=data['data']\n",
    "y=data['target']"
   ]
  },
  {
   "cell_type": "code",
   "execution_count": 27,
   "metadata": {},
   "outputs": [],
   "source": []
  },
  {
   "cell_type": "code",
   "execution_count": 74,
   "metadata": {},
   "outputs": [
    {
     "data": {
      "text/plain": [
       "<matplotlib.collections.PathCollection at 0x1d7068f4f10>"
      ]
     },
     "execution_count": 74,
     "metadata": {},
     "output_type": "execute_result"
    },
    {
     "data": {
      "image/png": "[encoded data removed]",
      "text/plain": [
       "<Figure size 432x288 with 1 Axes>"
      ]
     },
     "metadata": {
      "needs_background": "light"
     },
     "output_type": "display_data"
    }
   ],
   "source": [
    "from sklearn.decomposition import PCA\n",
    "from sklearn.datasets import load_iris\n",
    "import numpy as np \n",
    "import random\n",
    "from scipy.spatial import distance_matrix\n",
    "from sklearn.cluster import DBSCAN\n",
    "\n",
    "data=load_iris()\n",
    "X=data['data']\n",
    "y=data['target']\n",
    "\n",
    "D=distance_matrix(X,X)\n",
    "class DataBot:\n",
    "    def __init__(self, position,_):\n",
    "        self.position = position\n",
    "        self.payoff = 0\n",
    "        self.ind=_\n",
    "\n",
    "    def update_payoff(self, R, D,databots):\n",
    "        weight=np.array([H_weight(distance_2D_polar(self.position,r.position),R) for r in databots])\n",
    "        self.payoff=np.average(D[self.ind,:],weights=weight)\n",
    "\n",
    "def H_weight(r,R):\n",
    "    result=0\n",
    "    rs=r/(np.pi*R*R)\n",
    "    if rs<1:\n",
    "        result=1-rs\n",
    "    return result \n",
    "def distance_2D_polar(a,b):\n",
    "    x=polar_to_cartesian(a)\n",
    "    y=polar_to_cartesian(b)\n",
    "    return np.sqrt((x[0]-y[0])**2+(x[1]-y[1])**2)\n",
    "\n",
    "def initialize_databots(N,D,R_max):\n",
    "    databots = []\n",
    "    for _ in range(N):\n",
    "        position = (random.uniform(0,R_max), random.uniform(0, 2 * np.pi))\n",
    "        databots.append(DataBot(position,_))\n",
    "        # print(databots.shape)\n",
    "    updata_all_payoff(R_max,D,databots)\n",
    "    return databots\n",
    "\n",
    "\n",
    "def updata_all_payoff(R_max,D,databots):\n",
    "    for _ in databots:\n",
    "        _.update_payoff(R_max,D,databots)\n",
    "\n",
    "def calculate_payoff(databot):\n",
    "    return sum([_.payoff for _ in databot])\n",
    "\n",
    "def chance(R,max_range=0.5,min_range=0.05,R_max=75.0):\n",
    "    return min_range+max_range*(R/R_max)\n",
    "\n",
    "def update_positions(databots, R, c_R,D):\n",
    "    for databot in databots:\n",
    "        if random.random() < c_R:\n",
    "            new_p=(random.uniform(0, R), random.uniform(0, 2 * np.pi))\n",
    "            d=DataBot(new_p,databot.ind)\n",
    "            d.update_payoff(R,D,databots)\n",
    "            if d.payoff>databot.payoff:\n",
    "                databot.position=d.position\n",
    "                databot.payoff=d.payoff\n",
    "def polar_to_cartesian(polar_pos):\n",
    "    r, phi = polar_pos\n",
    "    x = r * np.cos(phi)\n",
    "    y = r * np.sin(phi)\n",
    "    return (x, y)            \n",
    "            \n",
    "def pswarm(databots, D, Rmax, Rmin):\n",
    "    # print(list(Rmin,int(Rmax),-1))\n",
    "    # grid_size = (len(D), len(D[0])) \n",
    "    for e in range(int(Rmax),Rmin,-1):\n",
    "        c_R =chance(e)\n",
    "        L=calculate_payoff(databots)+100\n",
    "        \n",
    "        while np.abs(L-calculate_payoff(databots))>0.00005*L:\n",
    "            # print(L)\n",
    "            L=calculate_payoff(databots)\n",
    "            update_positions(databots, e, c_R, D)\n",
    "    return databots\n",
    "\n",
    "\n",
    "N = 150 \n",
    "Rmax = 700/2\n",
    "Rmin = 5\n",
    "# epochs = 1000\n",
    "\n",
    "databots = initialize_databots(N, D=D,R_max=Rmax)\n",
    "# print(calculate_payoff(databots))\n",
    "final_databots = pswarm(databots, D=D, Rmax=Rmax, Rmin=Rmin)\n",
    "# print(calculate_payoff(final_databots))\n",
    "projectedpoints=np.array([list(polar_to_cartesian(_.position)) for _ in final_databots])\n",
    "plt.scatter(projectedpoints[:,0],projectedpoints[:,1])\n",
    "\n"
   ]
  },
  {
   "cell_type": "code",
   "execution_count": 60,
   "metadata": {},
   "outputs": [
    {
     "data": {
      "text/plain": [
       "<matplotlib.collections.PathCollection at 0x1d706817190>"
      ]
     },
     "execution_count": 60,
     "metadata": {},
     "output_type": "execute_result"
    },
    {
     "data": {
      "image/png": "[encoded data removed]",
      "text/plain": [
       "<Figure size 432x288 with 1 Axes>"
      ]
     },
     "metadata": {
      "needs_background": "light"
     },
     "output_type": "display_data"
    }
   ],
   "source": [
    "databots = initialize_databots(N, D=D,R_max=Rmax)\n",
    "projectedpoints=np.array([list(polar_to_cartesian(_.position)) for _ in databots])\n",
    "plt.scatter(projectedpoints[:,0],projectedpoints[:,1])"
   ]
  },
  {
   "cell_type": "code",
   "execution_count": 8,
   "metadata": {},
   "outputs": [
    {
     "data": {
      "text/plain": [
       "379.1477687193102"
      ]
     },
     "execution_count": 8,
     "metadata": {},
     "output_type": "execute_result"
    }
   ],
   "source": [
    "# weight=np.array([H_weight(distance_2D_polar(self.position,r.position),5) for r in databots])\n",
    "# list(range(Rmax,Rmin))\n",
    "# s=[polar_to_cartesian(r.position) for r in final_databots]\n",
    "# s\n",
    "\n",
    "calculate_payoff(initialize_databots(N, grid_size,D=D,R_max=Rmax))\n",
    "calculate_payoff(final_databots)\n"
   ]
  },
  {
   "cell_type": "code",
   "execution_count": 42,
   "metadata": {},
   "outputs": [],
   "source": [
    "from sklearn.datasets import load_iris\n",
    "import numpy as np \n",
    "import random\n",
    "from scipy.spatial import distance_matrix\n",
    "\n",
    "# Load dataset\n",
    "data = load_iris()\n",
    "X = data['data']\n",
    "\n",
    "# Calculate distance matrix\n",
    "D = distance_matrix(X, X)\n",
    "\n",
    "# DataBot class definition\n",
    "class DataBot:\n",
    "    def __init__(self, position, index):\n",
    "        self.position = position\n",
    "        self.payoff = 0  # Initial payoff\n",
    "        self.index = index  # Reference to the data index\n",
    "\n",
    "    def update_payoff(self, R, D, databots):\n",
    "        # Calculate weights based on distance to other databots\n",
    "        self.payoff = np.average(D[self.index, :], weights=[\n",
    "            H_weight(distance_2D_polar(self.position, bot.position), R) for bot in databots])\n",
    "\n",
    "# Supporting functions\n",
    "def H_weight(r, R):\n",
    "    return 1 - (r / (np.pi * R ** 2)) if r < R else 0\n",
    "\n",
    "def distance_2D_polar(a, b):\n",
    "    x = polar_to_cartesian(a)\n",
    "    y = polar_to_cartesian(b)\n",
    "    return np.sqrt((x[0] - y[0]) ** 2 + (x[1] - y[1]) ** 2)\n",
    "\n",
    "def polar_to_cartesian(polar_pos):\n",
    "    r, phi = polar_pos\n",
    "    return r * np.cos(phi), r * np.sin(phi) \n",
    "\n",
    "# Initialization of databots\n",
    "def initialize_databots(N, grid_size, D, R):\n",
    "    databots = []\n",
    "    for i in range(N):\n",
    "        position = (random.uniform(0, R), random.uniform(0, 2 * np.pi))  # Each bot gets a random polar position\n",
    "        databots.append(DataBot(position, i))\n",
    "    return databots\n",
    "\n",
    "# Update all payoffs\n",
    "def update_all_payoffs(R, D, databots):\n",
    "    for bot in databots:\n",
    "        bot.update_payoff(R, D, databots)\n",
    "\n",
    "# Calculate the total payoff\n",
    "def calculate_total_payoff(databots):\n",
    "    return sum(bot.payoff for bot in databots)\n",
    "\n",
    "# Update the positions according to PSwarm logic\n",
    "def update_positions(databots, R, D):\n",
    "    for databot in databots:\n",
    "        new_position = (random.uniform(0, R), random.uniform(0, 2 * np.pi))\n",
    "        old_payoff = databot.payoff\n",
    "        old_position=databot.position\n",
    "        # Check new position's payoff\n",
    "        databot.position = new_position\n",
    "        databot.update_payoff(R, D, databots)\n",
    "\n",
    "        # Revert to old position if new position is not better\n",
    "        if databot.payoff < old_payoff:\n",
    "            databot.position = old_position\n",
    "            databot.payoff = old_payoff\n",
    "\n",
    "# PSwarm algorithm\n",
    "def pswarm(databots, D, R_max, R_min, threshold=0.00005, max_iters=1000):\n",
    "    iteration_counts = 0\n",
    "    while R_max > R_min and iteration_counts < max_iters:\n",
    "        update_all_payoffs(R_max, D, databots)  # Update payoffs initially\n",
    "        last_total_payoff = calculate_total_payoff(databots)\n",
    "        update_positions(databots, R_max, D)\n",
    "        current_total_payoff = calculate_total_payoff(databots)\n",
    "\n",
    "        # Break if changes in payoff fall below the threshold\n",
    "        if abs(last_total_payoff - current_total_payoff) < threshold * last_total_payoff:\n",
    "            break\n",
    "\n",
    "        iteration_counts += 1\n",
    "        R_max *= 0.95  # Decrease range to intensify search\n",
    "\n",
    "    return databots\n",
    "\n",
    "# Initial parameters\n",
    "N = X.shape[0]  # Number of DataBots equals number of data points\n",
    "R_max = max(D.flatten()) / 2  # Maximum range\n",
    "R_max=10000\n",
    "R_min = R_max * 0.01  # Minimum range\n",
    "\n",
    "# Initialize databots with data indices and max range\n",
    "databots = initialize_databots(N, grid_size=(R_max, R_max), D=D, R=R_max)\n",
    "\n",
    "# Perform PSwarm optimization\n",
    "final_databots = pswarm(databots, D=D, R_max=R_max, R_min=R_min)\n",
    "\n",
    "# Visualize the result or examine databots as required\n",
    "# ...\n"
   ]
  },
  {
   "cell_type": "code",
   "execution_count": 43,
   "metadata": {},
   "outputs": [
    {
     "data": {
      "text/plain": [
       "383.8057845758922"
      ]
     },
     "execution_count": 43,
     "metadata": {},
     "output_type": "execute_result"
    }
   ],
   "source": [
    "\n",
    "calculate_payoff(final_databots)"
   ]
  },
  {
   "cell_type": "code",
   "execution_count": null,
   "metadata": {},
   "outputs": [],
   "source": [
    "import numpy as np\n",
    "\n",
    "def calculate_distance(vec1, vec2):\n",
    "    # Calculate Euclidean distance between two vectors\n",
    "    return np.sqrt(np.sum((vec1 - vec2) ** 2))\n",
    "\n",
    "def determine_bmu(t, net, m):\n",
    "    # Identify the best matching unit (BMU) for a given input\n",
    "    bmu_idx = np.array([0, 0])\n",
    "    min_dist = np.iinfo(np.int).max\n",
    "    \n",
    "    # Calculate the high-dimensional distance to each neuron\n",
    "    for x in range(net.shape[0]):\n",
    "        for y in range(net.shape[1]):\n",
    "            w = net[x, y, :].reshape(m, 1)\n",
    "            sq_dist = calculate_distance(w, t)\n",
    "            if sq_dist < min_dist:\n",
    "                min_dist = sq_dist\n",
    "                bmu_idx = np.array([x, y])\n",
    "                \n",
    "    bmu = net[bmu_idx[0], bmu_idx[1], :].reshape(m, 1)\n",
    "    return (bmu, bmu_idx)\n",
    "\n",
    "def train_som(data, net, iterations, learning_rate):\n",
    "    # Train SOM\n",
    "    for i in range(iterations):\n",
    "        # Decrease learning rate over time\n",
    "        lr = learning_rate * (1 - (i / iterations))\n",
    "        \n",
    "        for data_point in data:\n",
    "            t = data_point.reshape(np.array([data_point.shape[0], 1]))\n",
    "            bmu, bmu_idx = determine_bmu(t, net, data_point.shape[0])\n",
    "            \n",
    "            # Apply neighborhood function and update weights\n",
    "            # This part is pseudocode and will vary based on your exact neighborhood function\n",
    "            # net = update_weights(net, bmu, bmu_idx, t, lr)\n",
    "            pass\n",
    "\n",
    "def calculate_u_matrix(net, m, grid_size):\n",
    "    umatrix = np.zeros((grid_size, grid_size))\n",
    "    for x in range(grid_size):\n",
    "        for y in range(grid_size):\n",
    "            sum_dists = 0\n",
    "            count = 0\n",
    "            for i in [-1, 0, 1]:\n",
    "                for j in [-1, 0, 1]:\n",
    "                    if (x+i) >= 0 and (x+i) < grid_size and (y+j) >= 0 and (y+j) < grid_size:\n",
    "                        if i == 0 and j == 0:\n",
    "                            continue\n",
    "                        weight = net[x+i, y+j, :].reshape(m, 1)\n",
    "                        dist = calculate_distance(net[x][y], weight)\n",
    "                        sum_dists += dist\n",
    "                        count += 1\n",
    "            umatrix[x][y] = sum_dists / count\n",
    "    return umatrix\n",
    "\n",
    "# Define your SOM grid size, number of features, and initialize your network somehow, for example:\n",
    "grid_size = 10\n",
    "feature_count = 3\n",
    "data = []\n",
    "iterations = 1000\n",
    "learning_rate = 0.01\n",
    "\n",
    "# Randomly initialize the SOM net\n",
    "net = np.random.random((grid_size, grid_size, feature_count))\n",
    "\n",
    "train_som(data, net, iterations, learning_rate)\n",
    "\n",
    "# After training is complete, calculate the U-matrix\n",
    "u_matrix = calculate_u_matrix(net, feature_count, grid_size)\n",
    "\n",
    "# Now you can use u_matrix for further visualization or analysis\n",
    "print(u_matrix)\n"
   ]
  },
  {
   "cell_type": "code",
   "execution_count": 22,
   "metadata": {},
   "outputs": [],
   "source": [
    "import numpy as np\n",
    "from minisom import MiniSom    \n",
    "import matplotlib.pyplot as plt\n",
    "\n",
    "def calc_umatrix(weight_matrix, x, y):\n",
    "    \"\"\"\n",
    "    Calculate U-Matrix from SOM's weight matrix\n",
    "    :param weight_matrix: SOM's weights\n",
    "    :param x: x dimension of the SOM\n",
    "    :param y: y dimension of the SOM\n",
    "    :return: U-Matrix as a 2-D numpy array\n",
    "    \"\"\"\n",
    "    umatrix = np.zeros((x, y))\n",
    "    for i in range(x):\n",
    "        for j in range(y):\n",
    "            w = weight_matrix[i, j]\n",
    "            d = 0\n",
    "            n = 0\n",
    "            if i - 1 >= 0:\n",
    "                d += np.sqrt(np.sum((w - weight_matrix[i - 1, j]) ** 2))\n",
    "                n += 1\n",
    "            if i + 1 < x:\n",
    "                d += np.sqrt(np.sum((w - weight_matrix[i + 1, j]) ** 2))\n",
    "                n += 1\n",
    "            if j - 1 >= 0:\n",
    "                d += np.sqrt(np.sum((w - weight_matrix[i, j - 1]) ** 2))\n",
    "                n += 1\n",
    "            if j + 1 < y:\n",
    "                d += np.sqrt(np.sum((w - weight_matrix[i, j + 1]) ** 2))\n",
    "                n += 1\n",
    "            umatrix[i, j] = d / n\n",
    "    return umatrix\n",
    "lc=np.array([150,2])\n",
    "# Define SOM dimensions and initialization parameters\n",
    "som_x, som_y = (int(lc[1]), int(lc[0]))  # Match to your LC dimensions\n",
    "som = MiniSom(x=som_x, y=som_y, input_len=X.shape[1], sigma=1.0, learning_rate=0.5)\n",
    "\n",
    "# # Initialize weights randomly\n",
    "som.random_weights_init(X)\n",
    "\n",
    "# # Train SOM with the provided data\n",
    "# # The number of iterations is a hyperparameter you can experiment with.\n",
    "n_iterations = 1000\n",
    "som.train_random(X, n_iterations)\n",
    "\n",
    "# # After training, calculate the U-Matrix\n",
    "weights = som.get_weights()\n",
    "u_matrix = calc_umatrix(weights, som_x, som_y)\n",
    "\n"
   ]
  },
  {
   "cell_type": "code",
   "execution_count": null,
   "metadata": {},
   "outputs": [],
   "source": [
    "import numpy as np\n",
    "\n",
    "def calculate_distance(vec1, vec2):\n",
    "    # Calculate Euclidean distance between two vectors\n",
    "    return np.sqrt(np.sum((vec1 - vec2) ** 2))\n",
    "\n",
    "def determine_bmu(t, net, m):\n",
    "    # Identify the best matching unit (BMU) for a given input\n",
    "    bmu_idx = np.array([0, 0])\n",
    "    min_dist = np.iinfo(np.int).max\n",
    "    \n",
    "    # Calculate the high-dimensional distance to each neuron\n",
    "    for x in range(net.shape[0]):\n",
    "        for y in range(net.shape[1]):\n",
    "            w = net[x, y, :].reshape(m, 1)\n",
    "            sq_dist = calculate_distance(w, t)\n",
    "            if sq_dist < min_dist:\n",
    "                min_dist = sq_dist\n",
    "                bmu_idx = np.array([x, y])\n",
    "                \n",
    "    bmu = net[bmu_idx[0], bmu_idx[1], :].reshape(m, 1)\n",
    "    return (bmu, bmu_idx)\n",
    "\n",
    "def train_som(data, net, iterations, learning_rate):\n",
    "    # Train SOM\n",
    "    for i in range(iterations):\n",
    "        # Decrease learning rate over time\n",
    "        lr = learning_rate * (1 - (i / iterations))\n",
    "        \n",
    "        for data_point in data:\n",
    "            t = data_point.reshape(np.array([data_point.shape[0], 1]))\n",
    "            bmu, bmu_idx = determine_bmu(t, net, data_point.shape[0])\n",
    "            \n",
    "            # Apply neighborhood function and update weights\n",
    "            # This part is pseudocode and will vary based on your exact neighborhood function\n",
    "            # net = update_weights(net, bmu, bmu_idx, t, lr)\n",
    "            pass\n",
    "\n",
    "def calculate_u_matrix(net, m, grid_size):\n",
    "    umatrix = np.zeros((grid_size, grid_size))\n",
    "    for x in range(grid_size):\n",
    "        for y in range(grid_size):\n",
    "            sum_dists = 0\n",
    "            count = 0\n",
    "            for i in [-1, 0, 1]:\n",
    "                for j in [-1, 0, 1]:\n",
    "                    if (x+i) >= 0 and (x+i) < grid_size and (y+j) >= 0 and (y+j) < grid_size:\n",
    "                        if i == 0 and j == 0:\n",
    "                            continue\n",
    "                        weight = net[x+i, y+j, :].reshape(m, 1)\n",
    "                        dist = calculate_distance(net[x][y], weight)\n",
    "                        sum_dists += dist\n",
    "                        count += 1\n",
    "            umatrix[x][y] = sum_dists / count\n",
    "    return umatrix\n",
    "\n",
    "# Define your SOM grid size, number of features, and initialize your network somehow, for example:\n",
    "grid_size = 10\n",
    "feature_count = 3\n",
    "data = []\n",
    "iterations = 1000\n",
    "learning_rate = 0.01\n",
    "\n",
    "# Randomly initialize the SOM net\n",
    "net = np.random.random((grid_size, grid_size, feature_count))\n",
    "\n",
    "train_som(data, net, iterations, learning_rate)\n",
    "\n",
    "# After training is complete, calculate the U-matrix\n",
    "u_matrix = calculate_u_matrix(net, feature_count, grid_size)\n",
    "\n",
    "# Now you can use u_matrix for further visualization or analysis\n",
    "print(u_matrix)\n"
   ]
  },
  {
   "cell_type": "code",
   "execution_count": 40,
   "metadata": {},
   "outputs": [],
   "source": [
    "import numpy as np\n",
    "from scipy.spatial.distance import cdist\n",
    "import matplotlib.pyplot as plt\n",
    "\n",
    "\n",
    "def calc_umatrix(EsomNeurons, toroid=True):\n",
    "    def get_neighbors(k, shape):\n",
    "        M, N = shape\n",
    "        pos1 = (np.array([k[0]-1, k[0]-1, k[0]-1, k[0], k[0], k[0]+1, k[0]+1, k[0]+1]) % M)\n",
    "        pos2 = (np.array([k[1]-1, k[1], k[1]+1, k[1]-1, k[1]+1, k[1]-1, k[1], k[1]+1]) % N)\n",
    "        return np.stack((pos1, pos2), axis=-1)\n",
    "\n",
    "    shape = EsomNeurons.shape[:2]\n",
    "    Umatrix = np.zeros(shape)\n",
    "    \n",
    "    for i in range(shape[0]):\n",
    "        for j in range(shape[1]):\n",
    "            neighbors = get_neighbors((i, j), shape)\n",
    "            wij = EsomNeurons[i, j]\n",
    "            distances = np.sqrt(((wij - EsomNeurons[neighbors[:, 0], neighbors[:, 1]]) ** 2).sum(axis=1))\n",
    "            Umatrix[i, j] = distances.mean()\n",
    "            \n",
    "    return Umatrix\n",
    "LC = np.ceil(np.max(projectedpoints, axis=0)) + 1\n",
    "Lines, Columns = int(LC[0]), int(LC[1])\n",
    "wts = np.random.uniform(np.min(X), np.max(X), size=(Lines, Columns, X.shape[1])) \n",
    "Umatrix = calc_umatrix(wts)\n",
    "Umatrix\n",
    "\n",
    "# results = c(X, projectedpoints, lc)\n"
   ]
  },
  {
   "cell_type": "code",
   "execution_count": 81,
   "metadata": {},
   "outputs": [],
   "source": [
    "def my_meter(x,y):\n",
    "    global Umatrix\n",
    "    return Umatrix[0,0]\n",
    "pred_label=DBSCAN(metric=my_meter).fit_predict(X)"
   ]
  },
  {
   "cell_type": "code",
   "execution_count": 75,
   "metadata": {},
   "outputs": [
    {
     "data": {
      "text/plain": [
       "<matplotlib.collections.PathCollection at 0x1d70733ad10>"
      ]
     },
     "execution_count": 75,
     "metadata": {},
     "output_type": "execute_result"
    },
    {
     "data": {
      "image/png": "[encoded data removed]",
      "text/plain": [
       "<Figure size 432x288 with 1 Axes>"
      ]
     },
     "metadata": {
      "needs_background": "light"
     },
     "output_type": "display_data"
    }
   ],
   "source": [
    "plt.scatter(projectedpoints[:,0],projectedpoints[:,1])"
   ]
  },
  {
   "cell_type": "code",
   "execution_count": 84,
   "metadata": {},
   "outputs": [
    {
     "data": {
      "text/plain": [
       "<matplotlib.collections.PathCollection at 0x1d70842b610>"
      ]
     },
     "execution_count": 84,
     "metadata": {},
     "output_type": "execute_result"
    },
    {
     "data": {
      "image/png": "[encoded data removed]",
      "text/plain": [
       "<Figure size 432x288 with 1 Axes>"
      ]
     },
     "metadata": {
      "needs_background": "light"
     },
     "output_type": "display_data"
    }
   ],
   "source": [
    "plt.scatter(projectedpoints[:,0],projectedpoints[:,1],c=pred_label)"
   ]
  },
  {
   "cell_type": "code",
   "execution_count": 86,
   "metadata": {},
   "outputs": [
    {
     "data": {
      "text/plain": [
       "<matplotlib.collections.PathCollection at 0x1d7084db970>"
      ]
     },
     "execution_count": 86,
     "metadata": {},
     "output_type": "execute_result"
    },
    {
     "data": {
      "image/png": "[encoded data removed]",
      "text/plain": [
       "<Figure size 432x288 with 1 Axes>"
      ]
     },
     "metadata": {
      "needs_background": "light"
     },
     "output_type": "display_data"
    }
   ],
   "source": [
    "plt.scatter(X[:,0],X[:,2],c=pred_label)"
   ]
  },
  {
   "cell_type": "code",
   "execution_count": 103,
   "metadata": {},
   "outputs": [
    {
     "data": {
      "image/png": "[encoded data removed]",
      "text/plain": [
       "<Figure size 432x288 with 2 Axes>"
      ]
     },
     "metadata": {
      "needs_background": "light"
     },
     "output_type": "display_data"
    },
    {
     "name": "stderr",
     "output_type": "stream",
     "text": [
      "c:\\Users\\ACER\\AppData\\Local\\Programs\\Python\\Python310\\lib\\site-packages\\numpy\\core\\fromnumeric.py:3464: RuntimeWarning: Mean of empty slice.\n",
      "  return _methods._mean(a, axis=axis, dtype=dtype,\n",
      "c:\\Users\\ACER\\AppData\\Local\\Programs\\Python\\Python310\\lib\\site-packages\\numpy\\core\\_methods.py:192: RuntimeWarning: invalid value encountered in scalar divide\n",
      "  ret = ret.dtype.type(ret / rcount)\n"
     ]
    },
    {
     "name": "stdout",
     "output_type": "stream",
     "text": [
      "[[nan nan nan ... nan nan nan]\n",
      " [nan nan nan ... nan nan nan]\n",
      " [nan nan nan ... nan nan nan]\n",
      " ...\n",
      " [nan nan nan ... nan nan nan]\n",
      " [nan nan nan ... nan nan nan]\n",
      " [nan nan nan ... nan nan nan]]\n"
     ]
    }
   ],
   "source": [
    "import numpy as np\n",
    "import matplotlib.pyplot as plt\n",
    "from scipy.spatial.distance import cdist\n",
    "from scipy.spatial import distance_matrix\n",
    "\n",
    "\n",
    "\n",
    "def check_input_distances_or_data(data):\n",
    "    # Placeholder for actual checks required as per application needs\n",
    "    return np.array(data)\n",
    "\n",
    "\n",
    "def rotate_projected_points_if_needed(projected_points):\n",
    "    max_dims = np.max(projected_points, axis=0)\n",
    "    lines = int(np.ceil(max_dims[0]))\n",
    "    columns = int(np.ceil(max_dims[1]))\n",
    "\n",
    "    if lines > columns:\n",
    "        projected_points = np.flip(projected_points, axis=1)\n",
    "        max_dims = np.max(projected_points, axis=0)\n",
    "        lines, columns = int(np.ceil(max_dims[0])), int(np.ceil(max_dims[1]))\n",
    "        \n",
    "    return projected_points, lines, columns\n",
    "\n",
    "\n",
    "def projected_points_to_grid(ProjectedPoints, lines, columns):\n",
    "    n, d = ProjectedPoints.shape\n",
    "    transformed = np.zeros((n, d))\n",
    "    for i in range(d):\n",
    "        data_min = np.min(ProjectedPoints[:, i])\n",
    "        data_max = np.max(ProjectedPoints[:, i])\n",
    "        transformed[:, i] = (ProjectedPoints[:, i] - data_min) / (data_max - data_min)\n",
    "    BMUs = np.round(transformed * np.array([lines - 1, columns - 1]))\n",
    "    return BMUs.astype(int)\n",
    "\n",
    "\n",
    "def toroidal_distance(p1, p2, shape):\n",
    "    result = 0\n",
    "    for i in range(len(p1)):\n",
    "        dist = min(abs(p1[i] - p2[i]), shape[i] - abs(p1[i] - p2[i]))\n",
    "        result += dist ** 2\n",
    "    return np.sqrt(result)\n",
    "\n",
    "\n",
    "def calculate_umatrix(wts):\n",
    "    lines, columns, _ = wts.shape\n",
    "    umatrix = np.zeros((lines, columns))\n",
    "\n",
    "    for i in range(lines):\n",
    "        for j in range(columns):\n",
    "            dist_sum = 0\n",
    "            for di in [-1, 0, 1]:\n",
    "                for dj in [-1, 0, 1]:\n",
    "                    if di == 0 and dj == 0:\n",
    "                        continue  # skip the neuron itself\n",
    "                    ni = (i + di) % lines\n",
    "                    nj = (j + dj) % columns\n",
    "                    dist_sum += np.linalg.norm(wts[i, j] - wts[ni, nj])\n",
    "            umatrix[i, j] = dist_sum / 8.0  # normalizing by the number of neighbors (8)\n",
    "\n",
    "    return umatrix\n",
    "\n",
    "\n",
    "def U_star_matrix(BMU, data, shape):\n",
    "    umatrix = np.zeros(shape)\n",
    "    for i in range(shape[0]):\n",
    "        for j in range(shape[1]):\n",
    "            # Extract the primary BMU data points for this neuron\n",
    "            primary_data_indices = np.where(BMU == (i, j))[0]\n",
    "            primary_data = data[primary_data_indices]\n",
    "            \n",
    "            # Extract secondary BMU data points for surrounding neurons\n",
    "            secondary_data = []\n",
    "            for di in [-1, 0, 1]:\n",
    "                for dj in [-1, 0, 1]:\n",
    "                    if di == 0 and dj == 0:\n",
    "                        continue\n",
    "                    ni = (i + di) % shape[0]\n",
    "                    nj = (j + dj) % shape[1]\n",
    "                    secondary_data_indices = np.where(BMU == (ni, nj))[0]\n",
    "                    secondary_data.append(data[secondary_data_indices])\n",
    "\n",
    "            if len(primary_data) > 0 and secondary_data:\n",
    "                combined_data = np.vstack(secondary_data)\n",
    "                umatrix[i, j] = np.mean([np.mean(cdist(primary_data, secondary_data_k)) for secondary_data_k in secondary_data])\n",
    "            else:\n",
    "                umatrix[i, j] = np.nan\n",
    "    return umatrix\n",
    "\n",
    "\n",
    "def generate_pswarm_visualization(data, projected_points, lc=(None, None), plot=False):\n",
    "    projected_points, lines, columns = rotate_projected_points_if_needed(projected_points)\n",
    "    bmus = projected_points_to_grid(projected_points, lines, columns)\n",
    "    \n",
    "    # Initialize weights (randomly for now)\n",
    "    wts = np.random.uniform(low=data.min(), high=data.max(), size=(lines, columns, data.shape[1]))\n",
    "    \n",
    "    # assuming the ESOM algorithm has already been executed and wts are the final neuron weights\n",
    "    umatrix = calculate_umatrix(wts)\n",
    "\n",
    "    if plot:\n",
    "        # In a real use case this would be more complex, possibly involving a dynamic visualization\n",
    "        plt.imshow(umatrix, cmap='gray')\n",
    "        plt.colorbar()\n",
    "        plt.title('Generalized U-Matrix Visualization')\n",
    "        plt.show()\n",
    "        \n",
    "    u_star = U_star_matrix(bmus, data, (lines, columns))\n",
    "    \n",
    "    return u_star\n",
    "\n",
    "\n",
    "# Test function\n",
    "data =X\n",
    "projected_points = projectedpoints\n",
    "lc = (400,400)  # You can provide a fixed LC if you want\n",
    "\n",
    "u_matrix = generate_pswarm_visualization(data, projected_points, lc, plot=True)\n",
    "print(u_matrix)\n"
   ]
  },
  {
   "cell_type": "code",
   "execution_count": 96,
   "metadata": {},
   "outputs": [
    {
     "data": {
      "image/png": "[encoded data removed]",
      "text/plain": [
       "<Figure size 432x288 with 1 Axes>"
      ]
     },
     "metadata": {
      "needs_background": "light"
     },
     "output_type": "display_data"
    }
   ],
   "source": [
    "from sklearn.datasets import load_iris\n",
    "import numpy as np\n",
    "import random\n",
    "from scipy.spatial import distance_matrix\n",
    "import matplotlib.pyplot as plt\n",
    "\n",
    "data = load_iris()\n",
    "X = data['data']\n",
    "D = distance_matrix(X, X)\n",
    "\n",
    "def H_weight(r, R):\n",
    "    result = 0\n",
    "    rs = r**2 / (np.pi * R**2)\n",
    "    if rs < 1:\n",
    "        result = 1 - rs\n",
    "    return result\n",
    "\n",
    "def distance_2D_polar(a, b):\n",
    "    x = polar_to_cartesian(a)\n",
    "    y = polar_to_cartesian(b)\n",
    "    return np.sqrt((x[0] - y[0])**2 + (x[1] - y[1])**2)\n",
    "\n",
    "def polar_to_cartesian(polar_pos):\n",
    "    r, phi = polar_pos\n",
    "    x = r * np.cos(phi)\n",
    "    y = r * np.sin(phi)\n",
    "    return (x, y)      \n",
    "\n",
    "class DataBot:\n",
    "    def __init__(self, position, index):\n",
    "        self.position = position\n",
    "        self.payoff = 0\n",
    "        self.index = index\n",
    "\n",
    "    def update_payoff(self, R, D, databots):\n",
    "        weights = np.array([H_weight(distance_2D_polar(self.position, bot.position), R) for bot in databots])\n",
    "        self.payoff = np.average(D[self.index, :], weights=weights)\n",
    "\n",
    "def initialize_databots(N, D, R_max):\n",
    "    databots = []\n",
    "    for i in range(N):\n",
    "        position = (random.uniform(0, R_max), random.uniform(0, 2 * np.pi))\n",
    "        databots.append(DataBot(position, i))\n",
    "    update_all_payoff(R_max, D, databots)\n",
    "    return databots\n",
    "\n",
    "def update_all_payoff(R, D, databots):\n",
    "    for bot in databots:\n",
    "        bot.update_payoff(R, D, databots)\n",
    "\n",
    "def calculate_total_payoff(databots):\n",
    "    return sum(bot.payoff for bot in databots)\n",
    "\n",
    "def chance(R, R_max):\n",
    "    return 0.05 + 0.5 * (R / R_max)\n",
    "\n",
    "def update_positions(databots, R, D):\n",
    "    c_R = chance(R, R_max=R)\n",
    "    for databot in databots:\n",
    "        if random.random() < c_R:\n",
    "            new_position = (random.uniform(0, R), random.uniform(0, 2 * np.pi))\n",
    "            new_bot = DataBot(new_position, databot.index)\n",
    "            new_bot.update_payoff(R, D, databots)\n",
    "            if new_bot.payoff > databot.payoff:\n",
    "                databot.position = new_position\n",
    "                databot.payoff = new_bot.payoff\n",
    "\n",
    "def pswarm(databots, D, R_max, R_min):\n",
    "    for R in range(int(R_max), R_min, -1):\n",
    "        last_total_payoff = calculate_total_payoff(databots)\n",
    "        while True:\n",
    "            update_positions(databots, R, D)\n",
    "            current_total_payoff = calculate_total_payoff(databots)\n",
    "            if np.abs(last_total_payoff - current_total_payoff) <= 0.00005 * last_total_payoff:\n",
    "                break\n",
    "            last_total_payoff = current_total_payoff\n",
    "    return databots\n",
    "\n",
    "N = len(X)\n",
    "R_max = np.max(D.flatten()) / 2\n",
    "R_min = 5\n",
    "\n",
    "databots = initialize_databots(N, D, R_max)\n",
    "final_databots = pswarm(databots, D, R_max, R_min)\n",
    "\n",
    "projected_points = np.array([polar_to_cartesian(bot.position) for bot in final_databots])\n",
    "plt.scatter(projected_points[:, 0], projected_points[:, 1])\n",
    "plt.show()\n"
   ]
  },
  {
   "cell_type": "code",
   "execution_count": 102,
   "metadata": {},
   "outputs": [
    {
     "data": {
      "text/plain": [
       "376.61679392347855"
      ]
     },
     "execution_count": 102,
     "metadata": {},
     "output_type": "execute_result"
    }
   ],
   "source": [
    "calculate_total_payoff(final_databots)"
   ]
  }
 ],
 "metadata": {
  "kernelspec": {
   "display_name": "Python 3",
   "language": "python",
   "name": "python3"
  },
  "language_info": {
   "codemirror_mode": {
    "name": "ipython",
    "version": 3
   },
   "file_extension": ".py",
   "mimetype": "text/x-python",
   "name": "python",
   "nbconvert_exporter": "python",
   "pygments_lexer": "ipython3",
   "version": "3.10.5"
  }
 },
 "nbformat": 4,
 "nbformat_minor": 2
}
