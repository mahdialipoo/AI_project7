{
 "cells": [
  {
   "cell_type": "markdown",
   "metadata": {},
   "source": [
    "# Polar Swarm projection\n",
    "**Adding libraries**"
   ]
  },
  {
   "cell_type": "code",
   "execution_count": 1,
   "metadata": {},
   "outputs": [],
   "source": [
    "from sklearn.decomposition import PCA\n",
    "from sklearn.datasets import load_iris\n",
    "import numpy as np \n",
    "import random\n",
    "from scipy.spatial import distance_matrix\n",
    "from sklearn.cluster import DBSCAN\n",
    "import matplotlib.pyplot as plt\n"
   ]
  },
  {
   "cell_type": "markdown",
   "metadata": {},
   "source": [
    "**loading Iris Data**"
   ]
  },
  {
   "cell_type": "code",
   "execution_count": 2,
   "metadata": {},
   "outputs": [],
   "source": [
    "data=load_iris()\n",
    "X=data['data']\n",
    "y=data['target']"
   ]
  },
  {
   "cell_type": "markdown",
   "metadata": {},
   "source": [
    "**Distanse matrix ,representing distance betwin high dimensional data**"
   ]
  },
  {
   "cell_type": "code",
   "execution_count": 3,
   "metadata": {},
   "outputs": [],
   "source": [
    "D=distance_matrix(X,X)"
   ]
  },
  {
   "cell_type": "markdown",
   "metadata": {},
   "source": [
    "**Databot Class wich reconstruct data point in 2D space**"
   ]
  },
  {
   "cell_type": "code",
   "execution_count": 4,
   "metadata": {},
   "outputs": [],
   "source": [
    "class DataBot:\n",
    "    def __init__(self, position,_):\n",
    "        self.position = position\n",
    "        self.payoff = 0\n",
    "        self.ind=_\n",
    "\n",
    "    def update_payoff(self, R, D,databots):\n",
    "        weight=np.array([H_weight(distance_2D_polar(self.position,r.position),R) for r in databots])\n",
    "        self.payoff=np.average(D[self.ind,:],weights=weight)\n"
   ]
  },
  {
   "cell_type": "markdown",
   "metadata": {},
   "source": [
    "**polar to cartesian**"
   ]
  },
  {
   "cell_type": "code",
   "execution_count": 5,
   "metadata": {},
   "outputs": [],
   "source": [
    "def polar_to_cartesian(polar_pos):\n",
    "    r, phi = polar_pos\n",
    "    x = r * np.cos(phi)\n",
    "    y = r * np.sin(phi)\n",
    "    return (x, y)            \n",
    "            "
   ]
  },
  {
   "cell_type": "markdown",
   "metadata": {},
   "source": [
    "**H-weight and distance dfinition in 2D space** \\\n",
    "In this section, this is considered as a simplification in the case of alternating two-dimensional space, and this case is not considered for the sake of simplicity.\n"
   ]
  },
  {
   "cell_type": "code",
   "execution_count": 6,
   "metadata": {},
   "outputs": [],
   "source": [
    "def H_weight(r,R):\n",
    "    result=0\n",
    "    rs=r/(np.pi*R*R)\n",
    "    if rs<1:\n",
    "        result=1-rs\n",
    "    return result \n",
    "def distance_2D_polar(a,b):\n",
    "    x=polar_to_cartesian(a)\n",
    "    y=polar_to_cartesian(b)\n",
    "    return np.sqrt((x[0]-y[0])**2+(x[1]-y[1])**2)\n"
   ]
  },
  {
   "cell_type": "markdown",
   "metadata": {},
   "source": [
    "**Updating function** \\\n",
    "Functions updats payoff function as scent."
   ]
  },
  {
   "cell_type": "code",
   "execution_count": 7,
   "metadata": {},
   "outputs": [],
   "source": [
    "\n",
    "def updata_all_payoff(R_max,D,databots):\n",
    "    for _ in databots:\n",
    "        _.update_payoff(R_max,D,databots)\n",
    "\n",
    "def update_positions(databots, R, c_R,D):\n",
    "    for databot in databots:\n",
    "        if random.random() < c_R:\n",
    "            new_p=(random.uniform(0, R), random.uniform(0, 2 * np.pi))\n",
    "            d=DataBot(new_p,databot.ind)\n",
    "            d.update_payoff(R,D,databots)\n",
    "            if d.payoff>databot.payoff:\n",
    "                databot.position=d.position\n",
    "                databot.payoff=d.payoff\n",
    "\n"
   ]
  },
  {
   "cell_type": "markdown",
   "metadata": {},
   "source": [
    "**Initialization**"
   ]
  },
  {
   "cell_type": "code",
   "execution_count": 8,
   "metadata": {},
   "outputs": [],
   "source": [
    "def initialize_databots(N,D,R_max):\n",
    "    databots = []\n",
    "    for _ in range(N):\n",
    "        position = (random.uniform(0,R_max), random.uniform(0, 2 * np.pi))\n",
    "        databots.append(DataBot(position,_))\n",
    "    updata_all_payoff(R_max,D,databots)\n",
    "    return databots\n"
   ]
  },
  {
   "cell_type": "code",
   "execution_count": 9,
   "metadata": {},
   "outputs": [],
   "source": [
    "def calculate_payoff(databot):\n",
    "    return sum([_.payoff for _ in databot])\n",
    "\n",
    "def chance(R,max_range=0.5,min_range=0.05,R_max=75.0):\n",
    "    return min_range+max_range*(R/R_max)\n",
    "\n"
   ]
  },
  {
   "cell_type": "markdown",
   "metadata": {},
   "source": [
    "# Pswarm"
   ]
  },
  {
   "cell_type": "code",
   "execution_count": 10,
   "metadata": {},
   "outputs": [],
   "source": [
    "def pswarm(databots, D, Rmax, Rmin):\n",
    "    for e in range(int(Rmax),Rmin,-1):\n",
    "        c_R =chance(e)\n",
    "        L=calculate_payoff(databots)+100  \n",
    "        while np.abs(L-calculate_payoff(databots))>0.0000:\n",
    "            L=calculate_payoff(databots)\n",
    "            update_positions(databots, e, c_R, D)\n",
    "    return databots\n",
    "\n"
   ]
  },
  {
   "cell_type": "markdown",
   "metadata": {},
   "source": [
    "**Running code**"
   ]
  },
  {
   "cell_type": "code",
   "execution_count": 11,
   "metadata": {},
   "outputs": [
    {
     "name": "stdout",
     "output_type": "stream",
     "text": [
      "379.14993203178574\n"
     ]
    },
    {
     "data": {
      "image/png": "[encoded data removed]",
      "text/plain": [
       "<Figure size 432x288 with 1 Axes>"
      ]
     },
     "metadata": {
      "needs_background": "light"
     },
     "output_type": "display_data"
    },
    {
     "name": "stdout",
     "output_type": "stream",
     "text": [
      "379.3188592622588\n"
     ]
    },
    {
     "data": {
      "image/png": "[encoded data removed]",
      "text/plain": [
       "<Figure size 432x288 with 1 Axes>"
      ]
     },
     "metadata": {
      "needs_background": "light"
     },
     "output_type": "display_data"
    }
   ],
   "source": [
    "N = 150 \n",
    "Rmax = 700\n",
    "Rmin = 2\n",
    "\n",
    "databots = initialize_databots(N, D=D,R_max=Rmax)\n",
    "print(calculate_payoff(databots))\n",
    "projectedpoints=np.array([list(polar_to_cartesian(_.position)) for _ in databots])\n",
    "plt.title(\"Initialization\")\n",
    "plt.scatter(projectedpoints[:,0],projectedpoints[:,1])\n",
    "plt.savefig('./report/img/initialization-databots.jpg')\n",
    "plt.show()\n",
    "\n",
    "final_databots = pswarm(databots, D=D, Rmax=Rmax, Rmin=Rmin)\n",
    "print(calculate_payoff(final_databots))\n",
    "projectedpoints=np.array([list(polar_to_cartesian(_.position)) for _ in final_databots])\n",
    "plt.scatter(projectedpoints[:,0],projectedpoints[:,1])\n",
    "plt.title(\"Final databots position\")\n",
    "plt.savefig('./report/img/fianlprojection2D.jpg')\n",
    "plt.show()\n"
   ]
  }
 ],
 "metadata": {
  "kernelspec": {
   "display_name": "Python 3",
   "language": "python",
   "name": "python3"
  },
  "language_info": {
   "codemirror_mode": {
    "name": "ipython",
    "version": 3
   },
   "file_extension": ".py",
   "mimetype": "text/x-python",
   "name": "python",
   "nbconvert_exporter": "python",
   "pygments_lexer": "ipython3",
   "version": "3.10.5"
  }
 },
 "nbformat": 4,
 "nbformat_minor": 2
}
