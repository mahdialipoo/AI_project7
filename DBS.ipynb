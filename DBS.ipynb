{
 "cells": [
  {
   "cell_type": "code",
   "execution_count": 4,
   "metadata": {},
   "outputs": [],
   "source": [
    "from sklearn.decomposition import PCA\n",
    "from sklearn.datasets import load_iris\n",
    "import numpy as np \n",
    "import random\n",
    "from scipy.spatial import distance_matrix"
   ]
  },
  {
   "cell_type": "code",
   "execution_count": 10,
   "metadata": {},
   "outputs": [],
   "source": [
    "data=load_iris()\n",
    "X=data['data']\n",
    "y=data['target']"
   ]
  },
  {
   "cell_type": "code",
   "execution_count": 11,
   "metadata": {},
   "outputs": [],
   "source": [
    "D=distance_matrix(X,X)"
   ]
  },
  {
   "cell_type": "code",
   "execution_count": 70,
   "metadata": {},
   "outputs": [
    {
     "name": "stdout",
     "output_type": "stream",
     "text": [
      "379.1403683011338\n",
      "379.1403683011338\n"
     ]
    }
   ],
   "source": [
    "class DataBot:\n",
    "    def __init__(self, position,_):\n",
    "        self.position = position\n",
    "        self.payoff = 0\n",
    "        # self.update_payoff()\n",
    "        self.ind=_\n",
    "\n",
    "    def update_payoff(self, R, D,databots):\n",
    "        weight=np.array([H_weight(distance_2D_polar(self.position,r.position),R) for r in databots])\n",
    "        # print(weight.shape)\n",
    "        self.payoff=np.average(D[self.ind,:],weights=weight)\n",
    "\n",
    "def H_weight(r,R):\n",
    "    result=0\n",
    "    rs=r/(np.pi*R*R)\n",
    "    if rs<1:\n",
    "        result=1-rs\n",
    "    return result \n",
    "def distance_2D_polar(a,b):\n",
    "    x=polar_to_cartesian(a)\n",
    "    y=polar_to_cartesian(b)\n",
    "    return np.sqrt((x[0]-y[0])**2+(x[1]-y[1])**2)\n",
    "\n",
    "def initialize_databots(N, grid_size,D,R_max):\n",
    "    databots = []\n",
    "    for _ in range(N):\n",
    "        position = (random.uniform(0, grid_size[0]), random.uniform(0, 2 * np.pi))\n",
    "        databots.append(DataBot(position,_))\n",
    "        # print(databots.shape)\n",
    "    updata_all_payoff(R_max,D,databots)\n",
    "    return databots\n",
    "\n",
    "\n",
    "def updata_all_payoff(R_max,D,databots):\n",
    "    for _ in databots:\n",
    "        _.update_payoff(R_max,D,databots)\n",
    "\n",
    "def calculate_payoff(databot):\n",
    "    return sum([_.payoff for _ in databot])\n",
    "\n",
    "def chance(R,max_range=0,min_range=0):\n",
    "    return R\n",
    "\n",
    "def update_positions(databots, R, c_R,D, grid_size):\n",
    "    for databot in databots:\n",
    "        if random.random() < c_R:\n",
    "            new_p=(random.uniform(0, R), random.uniform(0, 2 * np.pi))\n",
    "            d=DataBot(new_p,databot.ind)\n",
    "            d.update_payoff(R,D,databots)\n",
    "            if d.payoff>databot.payoff:\n",
    "                databot.position=d.position\n",
    "                databot.payoff=d.payoff\n",
    "def polar_to_cartesian(polar_pos):\n",
    "    r, phi = polar_pos\n",
    "    x = r * np.cos(phi)\n",
    "    y = r * np.sin(phi)\n",
    "    return (x, y)            \n",
    "            \n",
    "def pswarm(databots, D, Rmax, Rmin):\n",
    "    grid_size = (len(D), len(D[0])) \n",
    "    for e in range(int(Rmax),Rmin):\n",
    "        c_R =chance(e)\n",
    "        L=calculate_payoff(databots)+1000\n",
    "        while np.abs(L-calculate_payoff(databots))<L*0.05:\n",
    "            L=calculate_payoff(databots)\n",
    "            update_positions(databots, e, c_R, grid_size)\n",
    "    return databots\n",
    "\n",
    "grid_size =D.shape\n",
    "N = 150 \n",
    "Rmax = grid_size[0] / 2\n",
    "Rmin = 5\n",
    "# epochs = 1000\n",
    "\n",
    "databots = initialize_databots(N, grid_size,D=D,R_max=Rmax)\n",
    "print(calculate_payoff(databots))\n",
    "final_databots = pswarm(databots, D=D, Rmax=Rmax, Rmin=Rmin)\n",
    "print(calculate_payoff(final_databots))\n"
   ]
  },
  {
   "cell_type": "code",
   "execution_count": 61,
   "metadata": {},
   "outputs": [
    {
     "data": {
      "text/plain": [
       "379.11973056709263"
      ]
     },
     "execution_count": 61,
     "metadata": {},
     "output_type": "execute_result"
    }
   ],
   "source": [
    "# weight=np.array([H_weight(distance_2D_polar(self.position,r.position),5) for r in databots])\n",
    "# list(range(Rmax,Rmin))\n",
    "# s=[polar_to_cartesian(r.position) for r in final_databots]\n",
    "# s\n",
    "calculate_payoff(initialize_databots(N, grid_size,D=D,R_max=Rmax))\n"
   ]
  },
  {
   "cell_type": "code",
   "execution_count": 64,
   "metadata": {},
   "outputs": [
    {
     "data": {
      "text/plain": [
       "379.1169653252283"
      ]
     },
     "execution_count": 64,
     "metadata": {},
     "output_type": "execute_result"
    }
   ],
   "source": [
    "calculate_payoff(final_databots)"
   ]
  },
  {
   "cell_type": "code",
   "execution_count": 33,
   "metadata": {},
   "outputs": [
    {
     "data": {
      "text/plain": [
       "3.5992129744220835"
      ]
     },
     "execution_count": 33,
     "metadata": {},
     "output_type": "execute_result"
    }
   ],
   "source": [
    "D[5,:].shape\n",
    "we\n",
    "np.average(D[5,:],weights=weight)"
   ]
  },
  {
   "cell_type": "code",
   "execution_count": null,
   "metadata": {},
   "outputs": [],
   "source": [
    "\n",
    "# def initialize_databots(N, O):\n",
    "#     # Place DataBots at initial random positions within the grid O\n",
    "#     databots = [DataBot((np.random.rand(), 2 * np.pi * np.random.rand())) for _ in range(N)]\n",
    "#     return databots\n",
    "\n",
    "\n",
    "\n",
    "def calculate_distances(databots):\n",
    "    # Calculate the distance matrix D for all databots based on their positions\n",
    "    pass\n",
    "\n",
    "def sample_databots(databots, c_R):\n",
    "    # Randomly choose a subset of databots for possible position updates based on c(R)\n",
    "    pass\n",
    "\n",
    "def determine_new_positions(databots, R, D):\n",
    "    # For each sampled databot, determine new possible positions with uniform randomness,\n",
    "    # then evaluate the best position based on a given scent/payoff function\n",
    "    pass\n",
    "\n",
    "def calculate_global_happiness(databots):\n",
    "    # Sum up the 'happiness' or payoff of all databots to check for the equilibrium\n",
    "    return np.sum([_.payoff for _ in databots])\n",
    "\n",
    "def PSwarm(D, Rmax, Rmin, L, C):\n",
    "    N = len(D)\n",
    "    O = (L, C)  # Output space size\n",
    "    databots = initialize_databots(N, O)\n",
    "    R = Rmax\n",
    "    \n",
    "    while R >= Rmin:\n",
    "        calculate_distances(databots)\n",
    "        c_R = calculate_chance_function(R, N)  # c(R) should decrease with time\n",
    "        sampled_databots = sample_databots(databots, c_R)\n",
    "        determine_new_positions(sampled_databots, R, D)\n",
    "        \n",
    "        if equilibrium_condition_met(databots):\n",
    "            R -= 1  # Decrease radius based on equilibrium\n",
    "        \n",
    "        cartesian_positions = [polar_to_cartesian(db.position) for db in databots]\n",
    "    \n",
    "    return cartesian_positions\n",
    "\n",
    "# Following are simplified placeholders for the actual implementation\n",
    "def calculate_chance_function(R, N):\n",
    "    pass\n",
    "\n",
    "def equilibrium_condition_met(databots):\n",
    "    pass\n",
    "\n",
    "# Assuming the distance matrix D has been provided or calculated\n",
    "# You'll need to supply your own D based on your data\n",
    "\n",
    "L, C = 100, 100  # Assuming a lattice of 100x100 for demonstration purposes\n",
    "Rmax = L / 2 if L < C else C / 2\n",
    "Rmin = 5  # As described\n",
    "\n",
    "cartesian_positions = PSwarm(dist_mat, Rmax, Rmin, L, C)"
   ]
  },
  {
   "cell_type": "code",
   "execution_count": 5,
   "metadata": {},
   "outputs": [
    {
     "data": {
      "text/plain": [
       "(150, 150)"
      ]
     },
     "execution_count": 5,
     "metadata": {},
     "output_type": "execute_result"
    }
   ],
   "source": [
    "dist_mat.shape"
   ]
  },
  {
   "cell_type": "code",
   "execution_count": 3,
   "metadata": {},
   "outputs": [],
   "source": [
    "\n",
    "from minisom import MiniSom\n",
    "# Define the size of the SOM grid\n",
    "som_grid_rows = 10\n",
    "som_grid_columns = 10\n",
    "\n",
    "# Define the input dimension (number of features in the dataset)\n",
    "input_dimension =4\n",
    "\n",
    "# Initialize the SOM\n",
    "som = MiniSom(som_grid_rows, som_grid_columns, input_dimension, sigma=1.0, learning_rate=0.5)\n",
    "\n",
    "# Train the SOM using your dataset\n",
    "som.train_random(X, 100)  # 100 is the number of iterations for training"
   ]
  },
  {
   "cell_type": "code",
   "execution_count": 4,
   "metadata": {},
   "outputs": [
    {
     "data": {
      "image/png": "[encoded data removed]",
      "text/plain": [
       "<Figure size 432x288 with 1 Axes>"
      ]
     },
     "metadata": {
      "needs_background": "light"
     },
     "output_type": "display_data"
    }
   ],
   "source": [
    "u_matrix = som.distance_map()\n",
    "import matplotlib.pyplot as plt\n",
    "u_mat= compute_generalized_umatrix(som)\n",
    "plt.imshow(u_matrix, cmap='gray')\n",
    "plt.show()"
   ]
  },
  {
   "cell_type": "code",
   "execution_count": 6,
   "metadata": {},
   "outputs": [
    {
     "data": {
      "text/plain": [
       "(10, 10)"
      ]
     },
     "execution_count": 6,
     "metadata": {},
     "output_type": "execute_result"
    }
   ],
   "source": [
    "u_matrix.shape"
   ]
  }
 ],
 "metadata": {
  "kernelspec": {
   "display_name": "Python 3",
   "language": "python",
   "name": "python3"
  },
  "language_info": {
   "codemirror_mode": {
    "name": "ipython",
    "version": 3
   },
   "file_extension": ".py",
   "mimetype": "text/x-python",
   "name": "python",
   "nbconvert_exporter": "python",
   "pygments_lexer": "ipython3",
   "version": "3.10.5"
  }
 },
 "nbformat": 4,
 "nbformat_minor": 2
}
